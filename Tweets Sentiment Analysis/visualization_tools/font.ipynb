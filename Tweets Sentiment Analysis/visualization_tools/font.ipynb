{
 "cells": [
  {
   "cell_type": "code",
   "execution_count": 1,
   "metadata": {},
   "outputs": [
    {
     "name": "stdout",
     "output_type": "stream",
     "text": [
      "Apple Braille Outline 6 Dot.ttf\n",
      "Apple Braille Outline 8 Dot.ttf\n",
      "Apple Braille Pinpoint 6 Dot.ttf\n",
      "Apple Braille Pinpoint 8 Dot.ttf\n",
      "Apple Braille.ttf\n",
      "Apple Color Emoji.ttc\n",
      "Apple Symbols.ttf\n",
      "AppleSDGothicNeo.ttc\n",
      "AquaKana.ttc\n",
      "ArialHB.ttc\n",
      "Avenir Next Condensed.ttc\n",
      "Avenir Next.ttc\n",
      "Avenir.ttc\n",
      "Courier.ttc\n",
      "GeezaPro.ttc\n",
      "Geneva.ttf\n",
      "HelveLTMM\n",
      "Helvetica.ttc\n",
      "HelveticaNeue.ttc\n",
      "Hiragino Sans GB.ttc\n",
      "Keyboard.ttf\n",
      "Kohinoor.ttc\n",
      "KohinoorBangla.ttc\n",
      "KohinoorGujarati.ttc\n",
      "KohinoorTelugu.ttc\n",
      "LastResort.otf\n",
      "LucidaGrande.ttc\n",
      "MarkerFelt.ttc\n",
      "Menlo.ttc\n",
      "Monaco.ttf\n",
      "MuktaMahee.ttc\n",
      "NewYork.ttf\n",
      "NewYorkItalic.ttf\n",
      "Noteworthy.ttc\n",
      "NotoNastaliq.ttc\n",
      "NotoSansArmenian.ttc\n",
      "NotoSansKannada.ttc\n",
      "NotoSansMyanmar.ttc\n",
      "NotoSansOriya.ttc\n",
      "NotoSerifMyanmar.ttc\n",
      "Optima.ttc\n",
      "Palatino.ttc\n",
      "PingFang.ttc\n",
      "SFArabic.ttf\n",
      "SFCompact.ttf\n",
      "SFCompactItalic.ttf\n",
      "SFCompactRounded.ttf\n",
      "SFNS.ttf\n",
      "SFNSItalic.ttf\n",
      "SFNSMono.ttf\n",
      "SFNSMonoItalic.ttf\n",
      "SFNSRounded.ttf\n",
      "STHeiti Light.ttc\n",
      "STHeiti Medium.ttc\n",
      "\u001b[34mSupplemental\u001b[m\u001b[m\n",
      "Symbol.ttf\n",
      "Thonburi.ttc\n",
      "Times.ttc\n",
      "TimesLTMM\n",
      "ZapfDingbats.ttf\n",
      "ヒラギノ丸ゴ ProN W4.ttc\n",
      "ヒラギノ明朝 ProN.ttc\n",
      "ヒラギノ角ゴシック W0.ttc\n",
      "ヒラギノ角ゴシック W1.ttc\n",
      "ヒラギノ角ゴシック W2.ttc\n",
      "ヒラギノ角ゴシック W3.ttc\n",
      "ヒラギノ角ゴシック W4.ttc\n",
      "ヒラギノ角ゴシック W5.ttc\n",
      "ヒラギノ角ゴシック W6.ttc\n",
      "ヒラギノ角ゴシック W7.ttc\n",
      "ヒラギノ角ゴシック W8.ttc\n",
      "ヒラギノ角ゴシック W9.ttc\n"
     ]
    }
   ],
   "source": [
    "!ls /System/Library/Fonts/"
   ]
  }
 ],
 "metadata": {
  "kernelspec": {
   "display_name": "Python 3.8.9 64-bit",
   "language": "python",
   "name": "python3"
  },
  "language_info": {
   "codemirror_mode": {
    "name": "ipython",
    "version": 3
   },
   "file_extension": ".py",
   "mimetype": "text/x-python",
   "name": "python",
   "nbconvert_exporter": "python",
   "pygments_lexer": "ipython3",
   "version": "3.8.9"
  },
  "orig_nbformat": 4,
  "vscode": {
   "interpreter": {
    "hash": "31f2aee4e71d21fbe5cf8b01ff0e069b9275f58929596ceb00d14d90e3e16cd6"
   }
  }
 },
 "nbformat": 4,
 "nbformat_minor": 2
}
